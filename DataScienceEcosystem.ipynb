{
 "cells": [
  {
   "cell_type": "markdown",
   "id": "44090390-b24e-4274-b9ac-431f96c82b2e",
   "metadata": {},
   "source": [
    "# Data Science Tools and Ecosystem"
   ]
  },
  {
   "cell_type": "markdown",
   "id": "3ca15ded-ffc9-4ecf-8d36-fed631f54d65",
   "metadata": {},
   "source": [
    "In this notebook, Data Science Tools and Ecosystem are summarized."
   ]
  },
  {
   "cell_type": "markdown",
   "id": "12193835-a70c-4ac8-9c63-ee3fd808c2c2",
   "metadata": {},
   "source": [
    "**Objectives:**\r\n",
    "\r\n",
    "- List popular languages for Data Science\r\n",
    "- Describe the data science process\r\n",
    "- Demonstrate how to use Jupyter Notebook\r\n",
    "- Explain key data science tools and libras data\r\n"
   ]
  },
  {
   "cell_type": "markdown",
   "id": "da1eaeea-7d15-4f92-821c-92f9aff89c83",
   "metadata": {},
   "source": [
    "Some of the popular languages that Data Scientists use are:\n",
    "1. Python\n",
    "2. R.\n",
    "3. Java."
   ]
  },
  {
   "cell_type": "markdown",
   "id": "96e4806d-b9f6-4118-a842-2154343ab38d",
   "metadata": {},
   "source": [
    "Some of the commonly used libraries used by Data Scientists include:\n",
    "1. Pandas\n",
    "2. Numpy\n",
    "3. Matplotlib"
   ]
  },
  {
   "cell_type": "markdown",
   "id": "cbb321fa-5165-409a-801c-77633d394aa2",
   "metadata": {},
   "source": [
    "| Data Science Tools       |\r\n",
    "|--------------------------|\r\n",
    "| Jupyter Notebook         |\r\n",
    "| RStudio                \n",
    " | TensorFlow               |\n",
    "   |\r\n"
   ]
  },
  {
   "cell_type": "markdown",
   "id": "0dc43767-d6a3-477b-9f52-db3320761f65",
   "metadata": {},
   "source": [
    "### Below are a few examples of evaluating arithmetic expressions in Python"
   ]
  },
  {
   "cell_type": "code",
   "execution_count": 19,
   "id": "61b3754c-1ef0-4bf0-beac-f831540a476e",
   "metadata": {},
   "outputs": [
    {
     "data": {
      "text/plain": [
       "17"
      ]
     },
     "execution_count": 19,
     "metadata": {},
     "output_type": "execute_result"
    }
   ],
   "source": [
    "# This a simple arithmetic expression to multiply then add integers\n",
    "\n",
    "(3*4)+5"
   ]
  },
  {
   "cell_type": "code",
   "execution_count": 23,
   "id": "fbdb258b-6668-4de2-8f77-b3a5bce7dc1d",
   "metadata": {},
   "outputs": [
    {
     "data": {
      "text/plain": [
       "3.3333333333333335"
      ]
     },
     "execution_count": 23,
     "metadata": {},
     "output_type": "execute_result"
    }
   ],
   "source": [
    "# This will convert 200 minutes to hours by diving by 60\n",
    "\n",
    "minutes = 200\n",
    "hours = 200 / 60\n",
    "hours"
   ]
  },
  {
   "cell_type": "markdown",
   "id": "006911b5-f34c-4255-ba74-a6700ee2cb7a",
   "metadata": {},
   "source": [
    "## Author: Ye Wang"
   ]
  },
  {
   "cell_type": "code",
   "execution_count": null,
   "id": "e5f60cfe-5f6b-4ddd-a29d-0db5165f97ea",
   "metadata": {},
   "outputs": [],
   "source": []
  }
 ],
 "metadata": {
  "kernelspec": {
   "display_name": "Python 3 (ipykernel)",
   "language": "python",
   "name": "python3"
  },
  "language_info": {
   "codemirror_mode": {
    "name": "ipython",
    "version": 3
   },
   "file_extension": ".py",
   "mimetype": "text/x-python",
   "name": "python",
   "nbconvert_exporter": "python",
   "pygments_lexer": "ipython3",
   "version": "3.12.4"
  }
 },
 "nbformat": 4,
 "nbformat_minor": 5
}
